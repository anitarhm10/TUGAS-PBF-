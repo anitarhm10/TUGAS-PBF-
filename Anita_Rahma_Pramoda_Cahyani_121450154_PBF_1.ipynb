{
  "nbformat": 4,
  "nbformat_minor": 0,
  "metadata": {
    "colab": {
      "provenance": []
    },
    "kernelspec": {
      "name": "python3",
      "display_name": "Python 3"
    },
    "language_info": {
      "name": "python"
    }
  },
  "cells": [
    {
      "cell_type": "markdown",
      "source": [
        "Nomor 6 Membuat program Simple Password encryption, dengan ketentuan\n",
        "\n",
        "1. Input password bertipe string dengan batasan panjang password 100 karakter \\\\\n",
        "2. Setiap karakter dari string tersebut diubah menjadi ASCII value \\\\\n",
        "3. Kemudian setiap ASCII value tersebut dikembangkan menjadi 3 value dengan dilakukan operasi berikut: \\\\\n",
        " a. Value pertama dibagi dengan integer 26 kemudian dibulatkan dan dijumlahkan dengan 80 kemudian diubah kembali menjadi karakter \\\\\n",
        " b. Value kedua dihitung sisa bagi dengan 26 kemudian dijumlahkan dengan 80 kemudian diubah kembali menjadi karakter \\\\\n",
        " c. Value ketiga adalah karakter ‘+’ jika value pertama lebih besar dari value kedua, atau value ketiga adalah karakter ‘-’ jika value pertama tidak lebih besar dari value kedua \\\\\n",
        "4. Deretkan value pertama, kedua dan ketiga untuk setiap karakter dalam password tersebut sehingga didapatkan password dalam bentuk baru"
      ],
      "metadata": {
        "id": "qT8b5zhrtM-a"
      }
    },
    {
      "cell_type": "code",
      "execution_count": 1,
      "metadata": {
        "id": "xpn49cY9r4XY"
      },
      "outputs": [],
      "source": [
        "from functools import reduce"
      ]
    },
    {
      "cell_type": "code",
      "source": [
        "def caesar_encrypt(password):\n",
        "    ascii_values = [ord(char) for char in password]\n",
        "    encrypt_values = [(chr((value//26)+80), chr(value%26+80), '+' if value//26 > value%26 else '-') for value in ascii_values]\n",
        "    encrypted_password = reduce(lambda acc, val: acc+val[0]+val[1]+val[2], encrypt_values, '')\n",
        "    return encrypted_password"
      ],
      "metadata": {
        "id": "cnYBVLx3t-Xi"
      },
      "execution_count": 2,
      "outputs": []
    },
    {
      "cell_type": "code",
      "source": [
        "password = input(\"Masukkan password: \")"
      ],
      "metadata": {
        "colab": {
          "base_uri": "https://localhost:8080/"
        },
        "id": "PtUzni70uKni",
        "outputId": "4b4a97a3-a867-4e00-f058-5a477d432a1a"
      },
      "execution_count": 3,
      "outputs": [
        {
          "name": "stdout",
          "output_type": "stream",
          "text": [
            "Masukkan password: Anita Rahma-121450154-SD-PBF\n"
          ]
        }
      ]
    },
    {
      "cell_type": "code",
      "source": [
        "encrypted_password = caesar_encrypt(password)"
      ],
      "metadata": {
        "id": "UQR9-F32uRk2"
      },
      "execution_count": 4,
      "outputs": []
    },
    {
      "cell_type": "code",
      "source": [
        "print(\"Password: \", password)"
      ],
      "metadata": {
        "colab": {
          "base_uri": "https://localhost:8080/"
        },
        "id": "p3H1MesguV3T",
        "outputId": "1a4bb354-a218-41bd-bb91-bb80a149a5e1"
      },
      "execution_count": 5,
      "outputs": [
        {
          "output_type": "stream",
          "name": "stdout",
          "text": [
            "Password:  Anita Rahma-121450154-SD-PBF\n"
          ]
        }
      ]
    },
    {
      "cell_type": "code",
      "source": [
        "print(\"Password Terenkripsi: \", encrypted_password)"
      ],
      "metadata": {
        "colab": {
          "base_uri": "https://localhost:8080/"
        },
        "id": "PxSy_ChOuYyJ",
        "outputId": "3a77e7a3-ec11-4c8d-de5a-728b944cebf0"
      },
      "execution_count": 6,
      "outputs": [
        {
          "output_type": "stream",
          "name": "stdout",
          "text": [
            "Password Terenkripsi:  R]-TV-TQ+T\\-Sc-QV-ST-Sc-TP+TU-Sc-Qc-Qg-Qh-Qg-RP+RQ+Qf-Qg-RQ+RP+Qc-SU-R`-Qc-SR+R^-Rb-\n"
          ]
        }
      ]
    }
  ]
}